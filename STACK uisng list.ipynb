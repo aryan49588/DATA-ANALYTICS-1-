{
 "cells": [
  {
   "cell_type": "code",
   "execution_count": 1,
   "id": "58c6eedc",
   "metadata": {},
   "outputs": [
    {
     "data": {
      "text/plain": [
       "['Welcome', 'To my', 'channel']"
      ]
     },
     "execution_count": 1,
     "metadata": {},
     "output_type": "execute_result"
    }
   ],
   "source": [
    "stk=[]\n",
    "stk.append(\"Welcome\")\n",
    "stk.append(\"To my\")\n",
    "stk.append(\"channel\")\n",
    "stk"
   ]
  },
  {
   "cell_type": "code",
   "execution_count": 2,
   "id": "d5e488d8",
   "metadata": {},
   "outputs": [
    {
     "data": {
      "text/plain": [
       "[1, 2, 3, 4, 5, 6, 7, 8, 9]"
      ]
     },
     "execution_count": 2,
     "metadata": {},
     "output_type": "execute_result"
    }
   ],
   "source": [
    "st=[]\n",
    "for i in range(1,10):\n",
    "    st.append(i)\n",
    "st"
   ]
  },
  {
   "cell_type": "code",
   "execution_count": 3,
   "id": "01c01634",
   "metadata": {},
   "outputs": [
    {
     "name": "stdout",
     "output_type": "stream",
     "text": [
      "lll\n"
     ]
    }
   ],
   "source": [
    "\n",
    "print(\"lll\")"
   ]
  },
  {
   "cell_type": "code",
   "execution_count": 7,
   "id": "8080806a",
   "metadata": {},
   "outputs": [
    {
     "name": "stdout",
     "output_type": "stream",
     "text": [
      "3\n"
     ]
    }
   ],
   "source": [
    "from queue import LifoQueue\n",
    "st1=LifoQueue(maxsize=3)\n",
    "st1.put(2)\n",
    "st1.put(3)\n",
    "st1.put(4)\n",
    "print(st1.qsize())"
   ]
  },
  {
   "cell_type": "code",
   "execution_count": 8,
   "id": "ff7f7865",
   "metadata": {},
   "outputs": [],
   "source": [
    "graph={\n",
    "    '6':['4','8'],\n",
    "    '4':['3','5'],\n",
    "    '8':['9'],\n",
    "    '3':[],\n",
    "    '5':['9'],\n",
    "    '9':[],\n",
    "}\n"
   ]
  },
  {
   "cell_type": "code",
   "execution_count": 9,
   "id": "dc29a121",
   "metadata": {},
   "outputs": [
    {
     "data": {
      "text/plain": [
       "{'6': ['4', '8'], '4': ['3', '5'], '8': ['9'], '3': [], '5': ['9'], '9': []}"
      ]
     },
     "execution_count": 9,
     "metadata": {},
     "output_type": "execute_result"
    }
   ],
   "source": [
    "graph"
   ]
  },
  {
   "cell_type": "code",
   "execution_count": 11,
   "id": "e0d08780",
   "metadata": {},
   "outputs": [
    {
     "data": {
      "text/plain": [
       "[1, 2, 3, 4]"
      ]
     },
     "execution_count": 11,
     "metadata": {},
     "output_type": "execute_result"
    }
   ],
   "source": [
    "dataframe=[1,2,3,4]\n",
    "dataframe"
   ]
  },
  {
   "cell_type": "code",
   "execution_count": null,
   "id": "c6515531",
   "metadata": {},
   "outputs": [],
   "source": []
  }
 ],
 "metadata": {
  "kernelspec": {
   "display_name": "Python 3 (ipykernel)",
   "language": "python",
   "name": "python3"
  },
  "language_info": {
   "codemirror_mode": {
    "name": "ipython",
    "version": 3
   },
   "file_extension": ".py",
   "mimetype": "text/x-python",
   "name": "python",
   "nbconvert_exporter": "python",
   "pygments_lexer": "ipython3",
   "version": "3.9.1"
  }
 },
 "nbformat": 4,
 "nbformat_minor": 5
}
