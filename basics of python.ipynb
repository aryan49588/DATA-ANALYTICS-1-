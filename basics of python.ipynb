{
 "cells": [
  {
   "cell_type": "code",
   "execution_count": 1,
   "id": "38007a23",
   "metadata": {},
   "outputs": [
    {
     "name": "stdout",
     "output_type": "stream",
     "text": [
      "My name is aryan. I am new to python\n"
     ]
    }
   ],
   "source": [
    "print(\"My name is aryan. I am new to python\")"
   ]
  },
  {
   "cell_type": "code",
   "execution_count": 2,
   "id": "360a5c5e",
   "metadata": {},
   "outputs": [
    {
     "name": "stdout",
     "output_type": "stream",
     "text": [
      "574365885201\n"
     ]
    }
   ],
   "source": [
    "a=5687523\n",
    "b=100987\n",
    "print(a*b)"
   ]
  },
  {
   "cell_type": "code",
   "execution_count": 3,
   "id": "00c26ef6",
   "metadata": {},
   "outputs": [
    {
     "data": {
      "text/plain": [
       "'DEV'"
      ]
     },
     "execution_count": 3,
     "metadata": {},
     "output_type": "execute_result"
    }
   ],
   "source": [
    "employeename=\"DEV\"\n",
    "employeename"
   ]
  },
  {
   "cell_type": "code",
   "execution_count": 4,
   "id": "cecc01f9",
   "metadata": {},
   "outputs": [
    {
     "data": {
      "text/plain": [
       "str"
      ]
     },
     "execution_count": 4,
     "metadata": {},
     "output_type": "execute_result"
    }
   ],
   "source": [
    "employeename=\"sam\"\n",
    "employeename\n",
    "type(employeename)"
   ]
  },
  {
   "cell_type": "code",
   "execution_count": 5,
   "id": "93dbd287",
   "metadata": {},
   "outputs": [
    {
     "data": {
      "text/plain": [
       "list"
      ]
     },
     "execution_count": 5,
     "metadata": {},
     "output_type": "execute_result"
    }
   ],
   "source": [
    "a=12+7j\n",
    "type([a])"
   ]
  },
  {
   "cell_type": "code",
   "execution_count": 6,
   "id": "44b4601c",
   "metadata": {},
   "outputs": [
    {
     "data": {
      "text/plain": [
       "complex"
      ]
     },
     "execution_count": 6,
     "metadata": {},
     "output_type": "execute_result"
    }
   ],
   "source": [
    "a=12+7j\n",
    "type(a)"
   ]
  },
  {
   "cell_type": "code",
   "execution_count": 7,
   "id": "5b060e45",
   "metadata": {},
   "outputs": [],
   "source": [
    "#operators in python"
   ]
  },
  {
   "cell_type": "code",
   "execution_count": 8,
   "id": "1fa21089",
   "metadata": {
    "scrolled": true
   },
   "outputs": [
    {
     "name": "stdout",
     "output_type": "stream",
     "text": [
      "1200\n"
     ]
    }
   ],
   "source": [
    "a=100\n",
    "b=12\n",
    "print(a*b)"
   ]
  },
  {
   "cell_type": "code",
   "execution_count": 9,
   "id": "d3e09ba1",
   "metadata": {},
   "outputs": [
    {
     "name": "stdout",
     "output_type": "stream",
     "text": [
      "1200\n",
      "112\n",
      "1000000000000000000000000\n",
      "8.333333333333334\n"
     ]
    }
   ],
   "source": [
    "a=100\n",
    "b=12\n",
    "print(a*b)\n",
    "a=100\n",
    "b=12\n",
    "print(a+b)\n",
    "a=100\n",
    "b=12\n",
    "print(a**b)\n",
    "a=100\n",
    "b=12\n",
    "print(a/b)"
   ]
  },
  {
   "cell_type": "code",
   "execution_count": 10,
   "id": "cb2fbda1",
   "metadata": {},
   "outputs": [
    {
     "name": "stdout",
     "output_type": "stream",
     "text": [
      "Enter a number:2\n",
      "2\n"
     ]
    }
   ],
   "source": [
    "a=int(input(\"Enter a number:\"))\n",
    "print(a)"
   ]
  },
  {
   "cell_type": "code",
   "execution_count": 11,
   "id": "aec90ff4",
   "metadata": {},
   "outputs": [
    {
     "name": "stdout",
     "output_type": "stream",
     "text": [
      "Enter a number:2\n",
      "2  is an even number.\n"
     ]
    }
   ],
   "source": [
    "a=int(input(\"Enter a number:\"))\n",
    "if a%2==0:\n",
    "    print(a,\" is an even number.\")\n",
    "else:\n",
    "    print(a,\" is an odd number.\")"
   ]
  },
  {
   "cell_type": "code",
   "execution_count": 12,
   "id": "d13fa0fb",
   "metadata": {},
   "outputs": [],
   "source": [
    "#logical operators"
   ]
  },
  {
   "cell_type": "code",
   "execution_count": 13,
   "id": "3b1d4710",
   "metadata": {},
   "outputs": [
    {
     "name": "stdout",
     "output_type": "stream",
     "text": [
      "False\n",
      "True\n",
      "True\n"
     ]
    }
   ],
   "source": [
    "a=True\n",
    "b=False\n",
    "print(a&b)\n",
    "print(a|b)\n",
    "print(a|a)"
   ]
  },
  {
   "cell_type": "code",
   "execution_count": 14,
   "id": "622443de",
   "metadata": {},
   "outputs": [],
   "source": [
    "#strings"
   ]
  },
  {
   "cell_type": "code",
   "execution_count": 15,
   "id": "9a2007de",
   "metadata": {},
   "outputs": [
    {
     "name": "stdout",
     "output_type": "stream",
     "text": [
      "rajasthan\n",
      "RAJASTHAN\n"
     ]
    }
   ],
   "source": [
    "st=\"rajasthan\"\n",
    "print(st)\n",
    "string1=st.upper()\n",
    "print(string1)"
   ]
  },
  {
   "cell_type": "code",
   "execution_count": 16,
   "id": "889a6d0d",
   "metadata": {},
   "outputs": [
    {
     "name": "stdout",
     "output_type": "stream",
     "text": [
      "rajasthan\n"
     ]
    }
   ],
   "source": [
    "st=\"RAJASTHAN\"\n",
    "print(st.lower())"
   ]
  },
  {
   "cell_type": "code",
   "execution_count": 17,
   "id": "2b656453",
   "metadata": {},
   "outputs": [
    {
     "name": "stdout",
     "output_type": "stream",
     "text": [
      "My name is hello world\n"
     ]
    },
    {
     "data": {
      "text/plain": [
       "'My name is good world'"
      ]
     },
     "execution_count": 17,
     "metadata": {},
     "output_type": "execute_result"
    }
   ],
   "source": [
    "st=\"My name is hello world\"\n",
    "print(st)\n",
    "st.replace('hello','good')\n"
   ]
  },
  {
   "cell_type": "code",
   "execution_count": 18,
   "id": "98ec4dc4",
   "metadata": {},
   "outputs": [],
   "source": [
    "s1=\"hello this is spartaaaa\""
   ]
  },
  {
   "cell_type": "code",
   "execution_count": 19,
   "id": "974ea6d8",
   "metadata": {},
   "outputs": [
    {
     "data": {
      "text/plain": [
       "'hello XXXX is spartaaaa'"
      ]
     },
     "execution_count": 19,
     "metadata": {},
     "output_type": "execute_result"
    }
   ],
   "source": [
    "s1.replace('this','XXXX')"
   ]
  },
  {
   "cell_type": "code",
   "execution_count": 20,
   "id": "03482106",
   "metadata": {},
   "outputs": [],
   "source": [
    "#tuples"
   ]
  },
  {
   "cell_type": "code",
   "execution_count": 21,
   "id": "2a2760d4",
   "metadata": {},
   "outputs": [
    {
     "data": {
      "text/plain": [
       "tuple"
      ]
     },
     "execution_count": 21,
     "metadata": {},
     "output_type": "execute_result"
    }
   ],
   "source": [
    "t1=(1,2,3,4,5,6,78,9)\n",
    "type(t1)"
   ]
  },
  {
   "cell_type": "code",
   "execution_count": 22,
   "id": "279e7357",
   "metadata": {},
   "outputs": [
    {
     "data": {
      "text/plain": [
       "(1, 2, 3, 4, 5, 6, 78, 9)"
      ]
     },
     "execution_count": 22,
     "metadata": {},
     "output_type": "execute_result"
    }
   ],
   "source": [
    "t1"
   ]
  },
  {
   "cell_type": "code",
   "execution_count": 23,
   "id": "8ce21b60",
   "metadata": {},
   "outputs": [
    {
     "data": {
      "text/plain": [
       "1"
      ]
     },
     "execution_count": 23,
     "metadata": {},
     "output_type": "execute_result"
    }
   ],
   "source": [
    "t1[0]"
   ]
  },
  {
   "cell_type": "code",
   "execution_count": 24,
   "id": "44506ace",
   "metadata": {},
   "outputs": [
    {
     "data": {
      "text/plain": [
       "4"
      ]
     },
     "execution_count": 24,
     "metadata": {},
     "output_type": "execute_result"
    }
   ],
   "source": [
    "t1[3]"
   ]
  },
  {
   "cell_type": "code",
   "execution_count": 25,
   "id": "6ab41a68",
   "metadata": {},
   "outputs": [
    {
     "data": {
      "text/plain": [
       "3"
      ]
     },
     "execution_count": 25,
     "metadata": {},
     "output_type": "execute_result"
    }
   ],
   "source": [
    "t1[2]\n",
    "t1[2]"
   ]
  },
  {
   "cell_type": "code",
   "execution_count": 26,
   "id": "2b80b868",
   "metadata": {},
   "outputs": [
    {
     "data": {
      "text/plain": [
       "8"
      ]
     },
     "execution_count": 26,
     "metadata": {},
     "output_type": "execute_result"
    }
   ],
   "source": [
    "len(t1)"
   ]
  },
  {
   "cell_type": "code",
   "execution_count": 27,
   "id": "15f5ca4e",
   "metadata": {},
   "outputs": [
    {
     "data": {
      "text/plain": [
       "(1, 2, 3, 4, 5, 6, 78, 9, 1, 2, 3, 4, 5, 6, 78, 9)"
      ]
     },
     "execution_count": 27,
     "metadata": {},
     "output_type": "execute_result"
    }
   ],
   "source": [
    "t1=(1, 2, 3, 4, 5, 6, 78, 9)\n",
    "t2=(1, 2, 3, 4, 5, 6, 78, 9)\n",
    "t1+t2"
   ]
  },
  {
   "cell_type": "code",
   "execution_count": 28,
   "id": "2430e885",
   "metadata": {},
   "outputs": [
    {
     "data": {
      "text/plain": [
       "(1,\n",
       " 2,\n",
       " 3,\n",
       " 4,\n",
       " 5,\n",
       " 6,\n",
       " 78,\n",
       " 9,\n",
       " 1,\n",
       " 2,\n",
       " 3,\n",
       " 4,\n",
       " 5,\n",
       " 6,\n",
       " 78,\n",
       " 9,\n",
       " 1,\n",
       " 2,\n",
       " 3,\n",
       " 4,\n",
       " 5,\n",
       " 6,\n",
       " 78,\n",
       " 9,\n",
       " 1,\n",
       " 2,\n",
       " 3,\n",
       " 4,\n",
       " 5,\n",
       " 6,\n",
       " 78,\n",
       " 9,\n",
       " 1,\n",
       " 2,\n",
       " 3,\n",
       " 4,\n",
       " 5,\n",
       " 6,\n",
       " 78,\n",
       " 9,\n",
       " 1,\n",
       " 2,\n",
       " 3,\n",
       " 4,\n",
       " 5,\n",
       " 6,\n",
       " 78,\n",
       " 9)"
      ]
     },
     "execution_count": 28,
     "metadata": {},
     "output_type": "execute_result"
    }
   ],
   "source": [
    "(t1+t2)*3"
   ]
  },
  {
   "cell_type": "code",
   "execution_count": 29,
   "id": "bc60634a",
   "metadata": {},
   "outputs": [],
   "source": [
    "#list"
   ]
  },
  {
   "cell_type": "code",
   "execution_count": 30,
   "id": "bff941d2",
   "metadata": {},
   "outputs": [
    {
     "name": "stdout",
     "output_type": "stream",
     "text": [
      "[1, 2, 3, 4, 5, 6, 'Spartaaaa', 'Data']\n",
      "[3, 4]\n"
     ]
    }
   ],
   "source": [
    "l1=[1,2,3,4,5,6,\"Spartaaaa\",\"Data\"]\n",
    "print(l1)\n",
    "print(l1[2:4])"
   ]
  },
  {
   "cell_type": "code",
   "execution_count": 31,
   "id": "089b2fba",
   "metadata": {},
   "outputs": [
    {
     "name": "stdout",
     "output_type": "stream",
     "text": [
      "[1, 56, 3, 4, 5, 6, 'Spartaaaa', 'Data']\n"
     ]
    }
   ],
   "source": [
    "l1[1]=56\n",
    "print(l1)"
   ]
  },
  {
   "cell_type": "code",
   "execution_count": 32,
   "id": "f7317112",
   "metadata": {},
   "outputs": [
    {
     "name": "stdout",
     "output_type": "stream",
     "text": [
      "[1, 2, 3, 4, 5, 6, 'Spartaaaa', 'Data']\n",
      "[3, 4]\n",
      "[1, 2, 3, 4, 5, 6, 'Spartaaaa', 'Data', 'Thor', 'Hulk']\n"
     ]
    }
   ],
   "source": [
    "l1=[1,2,3,4,5,6,\"Spartaaaa\",\"Data\"]\n",
    "print(l1)\n",
    "print(l1[2:4])\n",
    "l1.append(\"Thor\")\n",
    "l1.append(\"Hulk\")\n",
    "print(l1)"
   ]
  },
  {
   "cell_type": "code",
   "execution_count": 33,
   "id": "4694af3d",
   "metadata": {},
   "outputs": [],
   "source": [
    "#dictionary"
   ]
  },
  {
   "cell_type": "code",
   "execution_count": 34,
   "id": "722e5e61",
   "metadata": {},
   "outputs": [
    {
     "data": {
      "text/plain": [
       "{'apple': 40, 'Guava': 50, 'Banana': 60}"
      ]
     },
     "execution_count": 34,
     "metadata": {},
     "output_type": "execute_result"
    }
   ],
   "source": [
    "fruit={\"apple\":40,\"Guava\":50,\"Banana\":60}\n",
    "fruit"
   ]
  },
  {
   "cell_type": "code",
   "execution_count": 35,
   "id": "af9957ab",
   "metadata": {},
   "outputs": [
    {
     "name": "stdout",
     "output_type": "stream",
     "text": [
      "dict_keys(['apple', 'Guava', 'Banana'])\n",
      "dict_values([40, 50, 60])\n"
     ]
    }
   ],
   "source": [
    "fruit={\"apple\":40,\"Guava\":50,\"Banana\":60}\n",
    "print(fruit.keys())\n",
    "print(fruit.values())"
   ]
  },
  {
   "cell_type": "code",
   "execution_count": 36,
   "id": "e007afb4",
   "metadata": {},
   "outputs": [
    {
     "data": {
      "text/plain": [
       "{'apple': 50, 'Guava': 50, 'Banana': 60}"
      ]
     },
     "execution_count": 36,
     "metadata": {},
     "output_type": "execute_result"
    }
   ],
   "source": [
    "fruit={\"apple\":40,\"Guava\":50,\"Banana\":60}\n",
    "fruit[\"apple\"]=50\n",
    "fruit"
   ]
  },
  {
   "cell_type": "code",
   "execution_count": 37,
   "id": "307c82f3",
   "metadata": {},
   "outputs": [
    {
     "data": {
      "text/plain": [
       "{'apple': 40, 'Guava': 50, 'Banana': 60, 'papaya': 90}"
      ]
     },
     "execution_count": 37,
     "metadata": {},
     "output_type": "execute_result"
    }
   ],
   "source": [
    "fruit1={\"apple\":40,\"Guava\":50,\"Banana\":60}\n",
    "fruit2={\"papaya\":90}\n",
    "fruit1.update(fruit2)\n",
    "fruit1"
   ]
  },
  {
   "cell_type": "code",
   "execution_count": 38,
   "id": "471cdd04",
   "metadata": {},
   "outputs": [],
   "source": [
    "#sets"
   ]
  },
  {
   "cell_type": "code",
   "execution_count": 39,
   "id": "4fe1447e",
   "metadata": {},
   "outputs": [
    {
     "data": {
      "text/plain": [
       "{1, 2, 3, 4, 5, 6, 7}"
      ]
     },
     "execution_count": 39,
     "metadata": {},
     "output_type": "execute_result"
    }
   ],
   "source": [
    "s1={1,2,3,4,5,6,7,7,7,7,7,7}\n",
    "s1"
   ]
  },
  {
   "cell_type": "code",
   "execution_count": 40,
   "id": "7204e842",
   "metadata": {},
   "outputs": [
    {
     "data": {
      "text/plain": [
       "{2, 22, 'name'}"
      ]
     },
     "execution_count": 40,
     "metadata": {},
     "output_type": "execute_result"
    }
   ],
   "source": [
    "s1={\"name\",2,2,2,22,2}\n",
    "s1"
   ]
  },
  {
   "cell_type": "code",
   "execution_count": 41,
   "id": "a532e039",
   "metadata": {},
   "outputs": [
    {
     "data": {
      "text/plain": [
       "{2, 22, 'name'}"
      ]
     },
     "execution_count": 41,
     "metadata": {},
     "output_type": "execute_result"
    }
   ],
   "source": [
    "s1"
   ]
  },
  {
   "cell_type": "code",
   "execution_count": 42,
   "id": "5878e4c8",
   "metadata": {},
   "outputs": [
    {
     "data": {
      "text/plain": [
       "{2, 22, 'hello world', 'name'}"
      ]
     },
     "execution_count": 42,
     "metadata": {},
     "output_type": "execute_result"
    }
   ],
   "source": [
    "s1.add(\"hello world\")\n",
    "s1"
   ]
  },
  {
   "cell_type": "code",
   "execution_count": 43,
   "id": "47d3866a",
   "metadata": {},
   "outputs": [
    {
     "data": {
      "text/plain": [
       "{2, 22, 'name'}"
      ]
     },
     "execution_count": 43,
     "metadata": {},
     "output_type": "execute_result"
    }
   ],
   "source": [
    "s1.remove(\"hello world\")\n",
    "s1"
   ]
  },
  {
   "cell_type": "code",
   "execution_count": 44,
   "id": "ec0b37d0",
   "metadata": {},
   "outputs": [
    {
     "data": {
      "text/plain": [
       "{2, 22, 'k', 'name', 'r', 't'}"
      ]
     },
     "execution_count": 44,
     "metadata": {},
     "output_type": "execute_result"
    }
   ],
   "source": [
    "s1={\"name\",2,2,2,22,2}\n",
    "s2={\"r\",\"t\",\"k\"}\n",
    "s1.union(s2)"
   ]
  },
  {
   "cell_type": "code",
   "execution_count": 45,
   "id": "fda9a36c",
   "metadata": {},
   "outputs": [
    {
     "data": {
      "text/plain": [
       "{2}"
      ]
     },
     "execution_count": 45,
     "metadata": {},
     "output_type": "execute_result"
    }
   ],
   "source": [
    "s1={\"name\",2,2,2,22,2}\n",
    "s2={\"r\",2,\"k\"}\n",
    "s1.intersection(s2)"
   ]
  },
  {
   "cell_type": "code",
   "execution_count": 46,
   "id": "e57bb664",
   "metadata": {},
   "outputs": [],
   "source": [
    "#conditional statements"
   ]
  },
  {
   "cell_type": "code",
   "execution_count": 47,
   "id": "89779f67",
   "metadata": {},
   "outputs": [
    {
     "name": "stdout",
     "output_type": "stream",
     "text": [
      "ENter a number:4\n",
      "ENter another number:2\n",
      "4  is greater than  2\n",
      "THANK YOU\n"
     ]
    }
   ],
   "source": [
    "a=int(input(\"ENter a number:\"))\n",
    "b=int(input(\"ENter another number:\"))\n",
    "if (a>b):\n",
    "    print(a,\" is greater than \",b)\n",
    "else:\n",
    "    print(a,\" is samller than \",b)\n",
    "print('THANK YOU')"
   ]
  },
  {
   "cell_type": "code",
   "execution_count": 48,
   "id": "165888e9",
   "metadata": {},
   "outputs": [
    {
     "name": "stdout",
     "output_type": "stream",
     "text": [
      "which number:22\n",
      "22 is not present.\n"
     ]
    }
   ],
   "source": [
    "lst=[12,34,56,78,90]\n",
    "lst\n",
    "a=int(input(\"which number:\"))\n",
    "if a in lst:\n",
    "    print(a,\" is present in list.\")\n",
    "else:\n",
    "    print(a,\"is not present.\")"
   ]
  },
  {
   "cell_type": "code",
   "execution_count": 49,
   "id": "8515922b",
   "metadata": {},
   "outputs": [],
   "source": [
    "#looping statements"
   ]
  },
  {
   "cell_type": "code",
   "execution_count": 50,
   "id": "fa9b4d71",
   "metadata": {},
   "outputs": [
    {
     "name": "stdout",
     "output_type": "stream",
     "text": [
      "1\n",
      "2\n",
      "3\n",
      "4\n",
      "5\n",
      "6\n",
      "7\n",
      "8\n",
      "9\n"
     ]
    }
   ],
   "source": [
    "for i in range(1,10):\n",
    "    print(i)"
   ]
  },
  {
   "cell_type": "code",
   "execution_count": 51,
   "id": "e22b2484",
   "metadata": {},
   "outputs": [
    {
     "name": "stdout",
     "output_type": "stream",
     "text": [
      "print multiplication table of:2\n",
      "2 X 1 = 2\n",
      "2 X 2 = 4\n",
      "2 X 3 = 6\n",
      "2 X 4 = 8\n",
      "2 X 5 = 10\n",
      "2 X 6 = 12\n",
      "2 X 7 = 14\n",
      "2 X 8 = 16\n",
      "2 X 9 = 18\n",
      "2 X 10 = 20\n",
      "2 X 11 = 22\n",
      "2 X 12 = 24\n",
      "2 X 13 = 26\n",
      "2 X 14 = 28\n",
      "2 X 15 = 30\n",
      "2 X 16 = 32\n",
      "2 X 17 = 34\n",
      "2 X 18 = 36\n",
      "2 X 19 = 38\n",
      "2 X 20 = 40\n",
      "2 X 21 = 42\n",
      "2 X 22 = 44\n",
      "2 X 23 = 46\n",
      "2 X 24 = 48\n",
      "2 X 25 = 50\n",
      "2 X 26 = 52\n",
      "2 X 27 = 54\n",
      "2 X 28 = 56\n",
      "2 X 29 = 58\n",
      "2 X 30 = 60\n"
     ]
    }
   ],
   "source": [
    "n=int(input(\"print multiplication table of:\"))\n",
    "for i in range(1,31):\n",
    "    print(n,\"X\",i,\"=\",n*i)"
   ]
  },
  {
   "cell_type": "code",
   "execution_count": 52,
   "id": "37580778",
   "metadata": {},
   "outputs": [
    {
     "data": {
      "text/plain": [
       "2"
      ]
     },
     "execution_count": 52,
     "metadata": {},
     "output_type": "execute_result"
    }
   ],
   "source": [
    "a=2\n",
    "a"
   ]
  },
  {
   "cell_type": "code",
   "execution_count": 53,
   "id": "d512896b",
   "metadata": {},
   "outputs": [
    {
     "name": "stdout",
     "output_type": "stream",
     "text": [
      "1\n",
      "2\n",
      "3\n",
      "4\n",
      "5\n",
      "6\n",
      "7\n",
      "8\n",
      "9\n",
      "10\n"
     ]
    }
   ],
   "source": [
    "i=1\n",
    "while i<=10:\n",
    "    print(i)\n",
    "    i=i+1"
   ]
  },
  {
   "cell_type": "code",
   "execution_count": 54,
   "id": "e2c2c3b8",
   "metadata": {},
   "outputs": [
    {
     "name": "stdout",
     "output_type": "stream",
     "text": [
      "1\n",
      "2\n",
      "3\n",
      "4\n",
      "5\n",
      "67\n",
      "88\n"
     ]
    }
   ],
   "source": [
    "lst=[1,2,3,4,5,67,88]\n",
    "for i in lst:\n",
    "    print(i)"
   ]
  },
  {
   "cell_type": "code",
   "execution_count": 55,
   "id": "9774c4eb",
   "metadata": {},
   "outputs": [
    {
     "name": "stdout",
     "output_type": "stream",
     "text": [
      "orange chair\n",
      "orange shirt\n",
      "orange pants\n",
      "blue chair\n",
      "blue shirt\n",
      "blue pants\n",
      "yellow chair\n",
      "yellow shirt\n",
      "yellow pants\n"
     ]
    }
   ],
   "source": [
    "lst1=[\"orange\",\"blue\",\"yellow\"]\n",
    "lst2=[\"chair\",\"shirt\",\"pants\"]\n",
    "for i in lst1:\n",
    "    for j in lst2:\n",
    "        print(i,j)"
   ]
  },
  {
   "cell_type": "code",
   "execution_count": 56,
   "id": "3d660638",
   "metadata": {},
   "outputs": [],
   "source": [
    "#basic programs"
   ]
  },
  {
   "cell_type": "code",
   "execution_count": 61,
   "id": "ce78efe1",
   "metadata": {},
   "outputs": [
    {
     "name": "stdout",
     "output_type": "stream",
     "text": [
      "Enter a number:-3\n",
      "Sorry factorial of negative numbers does not exist.\n"
     ]
    }
   ],
   "source": [
    "num=int(input(\"Enter a number:\"))\n",
    "factorial=1\n",
    "if (num<0):\n",
    "    print(\"Sorry factorial of negative numbers does not exist.\")\n",
    "else:\n",
    "    for i in range(1,num+1):\n",
    "        factorial=factorial*i\n",
    "    print(\"factorial of\",num,\"is\",factorial)\n",
    "    "
   ]
  },
  {
   "cell_type": "code",
   "execution_count": 62,
   "id": "844f46fb",
   "metadata": {},
   "outputs": [],
   "source": [
    "#functions in python"
   ]
  },
  {
   "cell_type": "code",
   "execution_count": 63,
   "id": "d8eb5ab2",
   "metadata": {},
   "outputs": [
    {
     "data": {
      "text/plain": [
       "6"
      ]
     },
     "execution_count": 63,
     "metadata": {},
     "output_type": "execute_result"
    }
   ],
   "source": [
    "def great():\n",
    "    return(\"You are a great programmer!!\")\n",
    "def sumof(x,y):\n",
    "    return(x+y)\n",
    "great()\n",
    "sumof(2,4)"
   ]
  },
  {
   "cell_type": "code",
   "execution_count": 64,
   "id": "894097f7",
   "metadata": {},
   "outputs": [
    {
     "data": {
      "text/plain": [
       "'You are a great programmer!!'"
      ]
     },
     "execution_count": 64,
     "metadata": {},
     "output_type": "execute_result"
    }
   ],
   "source": [
    "great()"
   ]
  },
  {
   "cell_type": "code",
   "execution_count": 66,
   "id": "4daa8cac",
   "metadata": {},
   "outputs": [
    {
     "name": "stdout",
     "output_type": "stream",
     "text": [
      "16\n"
     ]
    }
   ],
   "source": [
    "f=lambda x:x*x*x*x\n",
    "print(f(2))"
   ]
  },
  {
   "cell_type": "code",
   "execution_count": 68,
   "id": "a2fe5b36",
   "metadata": {},
   "outputs": [
    {
     "name": "stdout",
     "output_type": "stream",
     "text": [
      "8 is even number.\n"
     ]
    }
   ],
   "source": [
    "def even_odd(x):\n",
    "    if x%2==0:\n",
    "        print(x,\"is even number.\")\n",
    "    else:\n",
    "        print(x,\"is odd number.\")\n",
    "even_odd(8)"
   ]
  },
  {
   "cell_type": "code",
   "execution_count": 71,
   "id": "a1c44681",
   "metadata": {},
   "outputs": [
    {
     "data": {
      "text/plain": [
       "[77, 33]"
      ]
     },
     "execution_count": 71,
     "metadata": {},
     "output_type": "execute_result"
    }
   ],
   "source": [
    "lst=[12,54,62,90,76,77,66,44,33]\n",
    "flst=list(filter(lambda x:(x%2!=0),lst))\n",
    "flst"
   ]
  },
  {
   "cell_type": "code",
   "execution_count": 72,
   "id": "726a9436",
   "metadata": {},
   "outputs": [],
   "source": [
    "#class"
   ]
  },
  {
   "cell_type": "code",
   "execution_count": 78,
   "id": "e1707429",
   "metadata": {},
   "outputs": [],
   "source": [
    "class Phone:\n",
    "    \n",
    "    def make_call(self):\n",
    "        print(\"Making call..\")\n",
    "        \n",
    "    def play_game(self):\n",
    "        print(\"Playing game...\")"
   ]
  },
  {
   "cell_type": "code",
   "execution_count": 79,
   "id": "5744c9aa",
   "metadata": {},
   "outputs": [],
   "source": [
    "p1=Phone()"
   ]
  },
  {
   "cell_type": "code",
   "execution_count": 80,
   "id": "7ed77146",
   "metadata": {},
   "outputs": [
    {
     "name": "stdout",
     "output_type": "stream",
     "text": [
      "Making call..\n"
     ]
    }
   ],
   "source": [
    "p1.make_call()"
   ]
  },
  {
   "cell_type": "code",
   "execution_count": 81,
   "id": "1bb5fedc",
   "metadata": {},
   "outputs": [
    {
     "name": "stdout",
     "output_type": "stream",
     "text": [
      "Playing game...\n"
     ]
    }
   ],
   "source": [
    "p1.play_game()"
   ]
  },
  {
   "cell_type": "code",
   "execution_count": 83,
   "id": "24e4d9dc",
   "metadata": {},
   "outputs": [],
   "source": [
    "class Phone:\n",
    "    \n",
    "    def make_call(self):\n",
    "        print(\"Making call..\")\n",
    "        \n",
    "    def play_game(self):\n",
    "        print(\"Playing game...\")\n",
    "    \n",
    "    def set_color(self,color):\n",
    "        self.color=color\n",
    "    \n",
    "    def set_cost(self,cost):\n",
    "        self.cost=cost\n",
    "    \n",
    "    def showcost(self):\n",
    "        return self.cost\n",
    "    \n",
    "    def showcolor(self):\n",
    "        return self.color"
   ]
  },
  {
   "cell_type": "code",
   "execution_count": 84,
   "id": "defa496f",
   "metadata": {},
   "outputs": [],
   "source": [
    "p2=Phone()"
   ]
  },
  {
   "cell_type": "code",
   "execution_count": 85,
   "id": "8cadd2d5",
   "metadata": {},
   "outputs": [],
   "source": [
    "p2.set_color('blue')"
   ]
  },
  {
   "cell_type": "code",
   "execution_count": 86,
   "id": "b308c026",
   "metadata": {},
   "outputs": [],
   "source": [
    "p2.set_cost(20000)"
   ]
  },
  {
   "cell_type": "code",
   "execution_count": 88,
   "id": "a3fa2562",
   "metadata": {},
   "outputs": [
    {
     "data": {
      "text/plain": [
       "20000"
      ]
     },
     "execution_count": 88,
     "metadata": {},
     "output_type": "execute_result"
    }
   ],
   "source": [
    "p2.showcost()"
   ]
  },
  {
   "cell_type": "code",
   "execution_count": 89,
   "id": "c003842e",
   "metadata": {},
   "outputs": [
    {
     "data": {
      "text/plain": [
       "'blue'"
      ]
     },
     "execution_count": 89,
     "metadata": {},
     "output_type": "execute_result"
    }
   ],
   "source": [
    "p2.showcolor()"
   ]
  },
  {
   "cell_type": "code",
   "execution_count": 91,
   "id": "a7fc4bd0",
   "metadata": {},
   "outputs": [],
   "source": [
    "class Employee:\n",
    "    def __init__(self,name,age,salary,gender):\n",
    "        self.name=name\n",
    "        self.age=age\n",
    "        self.salary=salary\n",
    "        self.gender=gender\n",
    "    def showdetails(self):\n",
    "        print(\"name:\",self.name)\n",
    "        print(\"age:\",self.age)\n",
    "        print(\"salary:\",self.salary)\n",
    "        print(\"gender:\",self.gender)\n",
    "        "
   ]
  },
  {
   "cell_type": "code",
   "execution_count": 92,
   "id": "8297dec4",
   "metadata": {},
   "outputs": [],
   "source": [
    "e1=Employee(\"SAM\",21,200000,\"male\")"
   ]
  },
  {
   "cell_type": "code",
   "execution_count": 94,
   "id": "96187c17",
   "metadata": {},
   "outputs": [
    {
     "name": "stdout",
     "output_type": "stream",
     "text": [
      "name: SAM\n",
      "age: 21\n",
      "salary: 200000\n",
      "gender: male\n"
     ]
    }
   ],
   "source": [
    "e1.showdetails()"
   ]
  },
  {
   "cell_type": "code",
   "execution_count": 95,
   "id": "75fb9fb8",
   "metadata": {},
   "outputs": [],
   "source": [
    "#inheritance"
   ]
  },
  {
   "cell_type": "code",
   "execution_count": 114,
   "id": "a330730c",
   "metadata": {},
   "outputs": [],
   "source": [
    "class Vehicle:\n",
    "    def __init__(self,milege,cost):\n",
    "        self.milege=milege\n",
    "        self.cost=cost\n",
    "    def show_details(self):\n",
    "        print(\"milege:\",self.milege)\n",
    "        print(\"cost:\",self.cost)"
   ]
  },
  {
   "cell_type": "code",
   "execution_count": 115,
   "id": "dfd2c2b4",
   "metadata": {},
   "outputs": [],
   "source": [
    "v1=Vehicle(400,400000)"
   ]
  },
  {
   "cell_type": "code",
   "execution_count": 116,
   "id": "a6f59d4f",
   "metadata": {},
   "outputs": [
    {
     "name": "stdout",
     "output_type": "stream",
     "text": [
      "milege: 400\n",
      "cost: 400000\n"
     ]
    }
   ],
   "source": [
    "v1.show_details()"
   ]
  },
  {
   "cell_type": "code",
   "execution_count": 117,
   "id": "f10aed65",
   "metadata": {},
   "outputs": [],
   "source": [
    "class Car(Vehicle):\n",
    "    def show_car(self):\n",
    "        print(\"Car is I\")"
   ]
  },
  {
   "cell_type": "code",
   "execution_count": 118,
   "id": "38e94164",
   "metadata": {},
   "outputs": [],
   "source": [
    "c1=Car(200,200000)"
   ]
  },
  {
   "cell_type": "code",
   "execution_count": 119,
   "id": "04ac6797",
   "metadata": {},
   "outputs": [
    {
     "name": "stdout",
     "output_type": "stream",
     "text": [
      "milege: 200\n",
      "cost: 200000\n"
     ]
    }
   ],
   "source": [
    "c1.show_details()"
   ]
  },
  {
   "cell_type": "code",
   "execution_count": 120,
   "id": "cff1775d",
   "metadata": {},
   "outputs": [],
   "source": [
    "class Car(Vehicle):\n",
    "    def __init__(self,milege,cost,tyres,hp):\n",
    "        super().__init__(milege,cost)\n",
    "        self.tyres=tyres\n",
    "        self.hp=hp\n",
    "    def show_car_details(self):\n",
    "        print(\"i am car.\")\n",
    "        print(\"tyres\",self.tyres)\n",
    "        print(\"hp\",self.hp)\n",
    "        "
   ]
  },
  {
   "cell_type": "code",
   "execution_count": 121,
   "id": "e8af25cd",
   "metadata": {},
   "outputs": [],
   "source": [
    "c1=Car(20,30000,4,760)"
   ]
  },
  {
   "cell_type": "code",
   "execution_count": 122,
   "id": "0d72761f",
   "metadata": {},
   "outputs": [
    {
     "name": "stdout",
     "output_type": "stream",
     "text": [
      "i am car.\n",
      "tyres 4\n",
      "hp 760\n"
     ]
    }
   ],
   "source": [
    "c1.show_car_details()"
   ]
  },
  {
   "cell_type": "code",
   "execution_count": 124,
   "id": "6506d609",
   "metadata": {},
   "outputs": [
    {
     "name": "stdout",
     "output_type": "stream",
     "text": [
      "milege: 20\n",
      "cost: 30000\n"
     ]
    }
   ],
   "source": [
    "c1.show_details()"
   ]
  },
  {
   "cell_type": "code",
   "execution_count": 6,
   "id": "8cfe0997",
   "metadata": {},
   "outputs": [
    {
     "data": {
      "text/plain": [
       "[1,\n",
       " 'Thor',\n",
       " 'Hello',\n",
       " 'Sword',\n",
       " 2,\n",
       " 3,\n",
       " 7,\n",
       " 6,\n",
       " 10,\n",
       " 100000,\n",
       " 2,\n",
       " 3000,\n",
       " 44,\n",
       " 55,\n",
       " 6666,\n",
       " 666]"
      ]
     },
     "execution_count": 6,
     "metadata": {},
     "output_type": "execute_result"
    }
   ],
   "source": [
    "lst=[1,\"Thor\",\"Sword\",2,3,7,6,10,100000,2,3000,44,55,6666,666]\n",
    "lst.insert(2,\"Hello\")\n",
    "lst"
   ]
  },
  {
   "cell_type": "code",
   "execution_count": 8,
   "id": "b36ad7ed",
   "metadata": {},
   "outputs": [
    {
     "data": {
      "text/plain": [
       "[1, 8, 33, 55, 66, 66666]"
      ]
     },
     "execution_count": 8,
     "metadata": {},
     "output_type": "execute_result"
    }
   ],
   "source": [
    "lst1=[1,33,55,66666,66,8]\n",
    "lst1.sort()\n",
    "lst1"
   ]
  },
  {
   "cell_type": "code",
   "execution_count": 9,
   "id": "eee7785a",
   "metadata": {},
   "outputs": [
    {
     "data": {
      "text/plain": [
       "[1, 8, 33, 55, 66, 66666]"
      ]
     },
     "execution_count": 9,
     "metadata": {},
     "output_type": "execute_result"
    }
   ],
   "source": [
    "lst1=[1,33,55,66666,66,8]\n",
    "lst1.sort()\n",
    "lst1"
   ]
  },
  {
   "cell_type": "code",
   "execution_count": 1,
   "id": "dccfcaa9",
   "metadata": {},
   "outputs": [],
   "source": [
    "#python basic problems"
   ]
  },
  {
   "cell_type": "code",
   "execution_count": 2,
   "id": "2a452187",
   "metadata": {},
   "outputs": [
    {
     "name": "stdout",
     "output_type": "stream",
     "text": [
      "1 \r\n",
      "2 3 \r\n",
      "4 5 6 \r\n",
      "7 8 9 10 \r\n",
      "11 12 13 14 15 \r\n"
     ]
    }
   ],
   "source": [
    "a=1\n",
    "for i in range(0,5):\n",
    "    for j in range(0,i+1):\n",
    "        print(a,end=\" \")\n",
    "        a=a+1\n",
    "    print(\"\\r\")"
   ]
  },
  {
   "cell_type": "code",
   "execution_count": 5,
   "id": "9f5f4d61",
   "metadata": {},
   "outputs": [
    {
     "name": "stdout",
     "output_type": "stream",
     "text": [
      "299\n",
      "298\n",
      "297\n",
      "304\n",
      "305\n"
     ]
    }
   ],
   "source": [
    "a=300\n",
    "n=1\n",
    "while (n<=5):\n",
    "    if (n<4):\n",
    "        print(a-n)\n",
    "    else:\n",
    "        print(a+n)\n",
    "    n=n+1"
   ]
  },
  {
   "cell_type": "code",
   "execution_count": 7,
   "id": "aa540c32",
   "metadata": {},
   "outputs": [
    {
     "name": "stdout",
     "output_type": "stream",
     "text": [
      "10\n",
      "20\n",
      "2100\n",
      "2200\n",
      "2300\n"
     ]
    }
   ],
   "source": [
    "x=1000\n",
    "y=2000\n",
    "n=10\n",
    "while(n<=50):\n",
    "    if (n<30):\n",
    "        x=x-100\n",
    "        print(n)\n",
    "    else:\n",
    "        y=y+100\n",
    "        print(y)\n",
    "    n=n+10"
   ]
  },
  {
   "cell_type": "code",
   "execution_count": 10,
   "id": "1ec57bae",
   "metadata": {},
   "outputs": [
    {
     "name": "stdout",
     "output_type": "stream",
     "text": [
      "1\n",
      "2\n",
      "3\n",
      "4\n",
      "210\n",
      "220\n",
      "230\n",
      "240\n",
      "250\n",
      "260\n"
     ]
    }
   ],
   "source": [
    "x=100\n",
    "y=200\n",
    "n=1\n",
    "while(n<=10):\n",
    "    if(n<5):\n",
    "        x=x-20\n",
    "        print(n)\n",
    "    else:\n",
    "        y=y+10\n",
    "        print(y)\n",
    "    n=n+1"
   ]
  },
  {
   "cell_type": "code",
   "execution_count": 14,
   "id": "80b457e3",
   "metadata": {},
   "outputs": [
    {
     "data": {
      "text/plain": [
       "[3.0,\n",
       " 3.0,\n",
       " 3.0,\n",
       " 3.0,\n",
       " 3.0,\n",
       " 3.0,\n",
       " 3.0,\n",
       " 3.0,\n",
       " 3.0,\n",
       " 3.0,\n",
       " 3.0,\n",
       " 3.0,\n",
       " 3.0,\n",
       " 3.0,\n",
       " 3.0,\n",
       " 3.0,\n",
       " 3.0,\n",
       " 3.0,\n",
       " 3.0]"
      ]
     },
     "execution_count": 14,
     "metadata": {},
     "output_type": "execute_result"
    }
   ],
   "source": [
    "lst=[]\n",
    "x=1000\n",
    "y=3000\n",
    "i=1\n",
    "while(i<=100):\n",
    "    i=i+3\n",
    "    if(i<60):\n",
    "        lst.append((y/x))\n",
    "lst"
   ]
  },
  {
   "cell_type": "code",
   "execution_count": 20,
   "id": "b6838624",
   "metadata": {},
   "outputs": [
    {
     "name": "stdout",
     "output_type": "stream",
     "text": [
      "11\n",
      "@\n",
      "@\n",
      "@\n",
      "@\n",
      "@\n",
      "24\n"
     ]
    }
   ],
   "source": [
    "j=5\n",
    "k=4\n",
    "l=3\n",
    "x=12\n",
    "while(x<=13):\n",
    "    x=x+1\n",
    "    j=j+3\n",
    "    print(j+3)\n",
    "    while (j<=16):\n",
    "        print(\"@\")\n",
    "        j=j+2\n",
    "    "
   ]
  },
  {
   "cell_type": "code",
   "execution_count": 23,
   "id": "6f39898b",
   "metadata": {},
   "outputs": [
    {
     "name": "stdout",
     "output_type": "stream",
     "text": [
      "8\n",
      "8\n",
      "18\n",
      "10\n",
      "10\n",
      "20\n"
     ]
    }
   ],
   "source": [
    "m=1\n",
    "x=4\n",
    "i=1\n",
    "while(x<=6):\n",
    "    x=x+2\n",
    "    m=x+2\n",
    "    print(m)\n",
    "    while(m<=20):\n",
    "        print(m)\n",
    "        m=m+10"
   ]
  },
  {
   "cell_type": "code",
   "execution_count": 1,
   "id": "cf25ae6a",
   "metadata": {},
   "outputs": [],
   "source": [
    "import numpy as np"
   ]
  },
  {
   "cell_type": "code",
   "execution_count": 2,
   "id": "efb62b14",
   "metadata": {},
   "outputs": [
    {
     "data": {
      "text/plain": [
       "array([1, 2, 3, 4, 5, 6, 7])"
      ]
     },
     "execution_count": 2,
     "metadata": {},
     "output_type": "execute_result"
    }
   ],
   "source": [
    "n1=np.array([1,2,3,4,5,6,7])\n",
    "n1"
   ]
  },
  {
   "cell_type": "code",
   "execution_count": 5,
   "id": "52cc1891",
   "metadata": {},
   "outputs": [
    {
     "data": {
      "text/plain": [
       "array([[  1,   2,   3,   4,   5,   6,   7],\n",
       "       [ 11,  22,  33,  44,  55,  66,  77],\n",
       "       [100, 200, 300, 400, 500, 600, 700]])"
      ]
     },
     "execution_count": 5,
     "metadata": {},
     "output_type": "execute_result"
    }
   ],
   "source": [
    "n1=np.array([[1,2,3,4,5,6,7],[11,22,33,44,55,66,77],[100,200,300,400,500,600,700]])\n",
    "n1"
   ]
  },
  {
   "cell_type": "code",
   "execution_count": 12,
   "id": "f515e10b",
   "metadata": {},
   "outputs": [
    {
     "name": "stdout",
     "output_type": "stream",
     "text": [
      "0\n",
      "0\n",
      "0\n",
      "0\n",
      "0\n",
      "0\n",
      "0\n",
      "0\n",
      "0\n",
      "0\n"
     ]
    }
   ],
   "source": [
    "a=3\n",
    "b=2\n",
    "i=1\n",
    "while(i<=10):\n",
    "    i=i+1\n",
    "    b=b*0\n",
    "    print(b)"
   ]
  },
  {
   "cell_type": "code",
   "execution_count": 15,
   "id": "aab97f02",
   "metadata": {},
   "outputs": [
    {
     "data": {
      "text/plain": [
       "6309"
      ]
     },
     "execution_count": 15,
     "metadata": {},
     "output_type": "execute_result"
    }
   ],
   "source": [
    "n1=np.array([100,300,5009])\n",
    "n2=np.array([200,300,400])\n",
    "np.sum([n1,n2])"
   ]
  },
  {
   "cell_type": "code",
   "execution_count": null,
   "id": "3967daa0",
   "metadata": {},
   "outputs": [],
   "source": []
  }
 ],
 "metadata": {
  "kernelspec": {
   "display_name": "Python 3 (ipykernel)",
   "language": "python",
   "name": "python3"
  },
  "language_info": {
   "codemirror_mode": {
    "name": "ipython",
    "version": 3
   },
   "file_extension": ".py",
   "mimetype": "text/x-python",
   "name": "python",
   "nbconvert_exporter": "python",
   "pygments_lexer": "ipython3",
   "version": "3.9.12"
  }
 },
 "nbformat": 4,
 "nbformat_minor": 5
}
